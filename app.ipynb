{
 "cells": [
  {
   "cell_type": "code",
   "execution_count": null,
   "id": "5a29057d",
   "metadata": {},
   "outputs": [],
   "source": [
    "# %pip install -r /requirements.txt"
   ]
  },
  {
   "cell_type": "code",
   "execution_count": null,
   "id": "d32bb20b",
   "metadata": {},
   "outputs": [],
   "source": [
    "import os\n",
    "\n",
    "os.environ[\"OPENAI_API_KEY\"] = os.getenv(\"OPENAI_API_KEY\", \"YOUR OPENAI API KEY\")"
   ]
  },
  {
   "cell_type": "code",
   "execution_count": 2,
   "id": "2c626ebf",
   "metadata": {},
   "outputs": [],
   "source": [
    "from trader_agent.bootstrap import boot_agent"
   ]
  },
  {
   "cell_type": "code",
   "execution_count": 3,
   "id": "ac00b2ee",
   "metadata": {},
   "outputs": [
    {
     "name": "stdout",
     "output_type": "stream",
     "text": [
      "Persona snapshot: {'style': 'MeanReversion', 'risk': 'High', 'holding': 'swing', 'preferred_assets': ['PEPE', 'BTC', 'ETH'], 'top_tags': ['event-driven', 'volume-spike', 'stop-loss', 'momentum', 'swing'], 'rules': ['Favor entries when RSI > 55 and volume spikes.', 'Size down on high-volatility meme assets.']}\n"
     ]
    }
   ],
   "source": [
    "artifacts = boot_agent()\n",
    "chat = artifacts[\"chat\"]\n",
    "persona = artifacts[\"persona\"]\n",
    "print(\"Persona snapshot:\", persona)"
   ]
  },
  {
   "cell_type": "code",
   "execution_count": 4,
   "id": "af88a8f9",
   "metadata": {},
   "outputs": [
    {
     "name": "stdout",
     "output_type": "stream",
     "text": [
      "Reflecting on last month's trading performance, several key lessons emerged based on the metrics from past trades:\n",
      "\n",
      "### Successful Strategies:\n",
      "- **Meme Tag:** Achieved a 100% win rate with 1 successful trade, indicating strong market sentiment and engagement with meme assets. This aligns with the high-risk, high-reward nature of my trading style.\n",
      "- **Long-Term Tag:** Also recorded a 100% win rate with 1 successful trade, suggesting that longer-term positions can be beneficial in stable market conditions.\n",
      "\n",
      "### Moderate Success:\n",
      "- **Momentum and Volume-Spike Tags:** Both strategies had a 50% win rate with 2 trades each. For instance, the ETH trade on 10/5/2024 had an RSI of 57.73 and a ΔVol of 30.55%, which indicates that while these strategies can be effective, they may require more precise entry and exit points to improve overall performance.\n",
      "\n",
      "### Underperforming Strategies:\n",
      "- **Mean-Revert and RSI-Divergence Tags:** Both strategies failed to yield any wins (0% win rate). The BTC trade on 5/17/2024, which had an RSI of 63.77 and was tagged with mean-revert and volume-spike, did not perform as expected. This suggests that the market conditions during this period were not conducive to mean reversion strategies, possibly due to strong trends or volatility.\n",
      "\n",
      "### Risk Notes:\n",
      "- **RSI Levels:** The average RSI win was 44.09, indicating that trades were often initiated in a neutral to bearish market condition. This suggests a need to adjust entry thresholds (e.g., targeting RSI>55) for better performance.\n",
      "- **Volume Changes:** The average volume change for winning trades was 29.46%. Monitoring volume spikes more closely may enhance the effectiveness of momentum strategies.\n",
      "\n",
      "### Overall Insights:\n",
      "- Diversifying strategies can help mitigate risks associated with underperforming tags. \n",
      "- Focus on refining entry criteria for momentum and volume-based strategies to improve win rates.\n",
      "- Consider the market environment when selecting strategies, as certain conditions favor specific approaches (e.g., trending vs. ranging markets). \n",
      "\n",
      "These reflections will guide my approach moving forward, especially in adjusting entry points and focusing on strategies that align with current market conditions.\n"
     ]
    }
   ],
   "source": [
    "print(chat(\"What lessons did you learn last month? What worked and what failed?\"))"
   ]
  },
  {
   "cell_type": "code",
   "execution_count": 5,
   "id": "a0c44e84",
   "metadata": {},
   "outputs": [
    {
     "name": "stdout",
     "output_type": "stream",
     "text": [
      "In 2024, the most profitable DOGE trades based on the provided data are as follows:\n",
      "\n",
      "1. **Trade T048**: \n",
      "   - **Action**: Sell \n",
      "   - **Price**: 0.26704076 \n",
      "   - **Volume**: 28,640.83 \n",
      "   - **Date**: 10/21/2024 \n",
      "   - **Tags**: trend-follow, rsi-divergence \n",
      "   - **RSI**: 88.08 (indicating overbought conditions)\n",
      "   - **ΔVol**: 30.96% (showing a significant increase in volume)\n",
      "   - **Sentiment**: -0.19 \n",
      "   - **SetupScore**: 2.4 \n",
      "\n",
      "2. **Trade T057**: \n",
      "   - **Action**: Sell \n",
      "   - **Price**: 0.19794665 \n",
      "   - **Volume**: 30,387.66 \n",
      "   - **Date**: 12/7/2024 \n",
      "   - **Tags**: momentum, volume-spike, event-driven \n",
      "   - **RSI**: 67.14 \n",
      "   - **ΔVol**: 40.08% \n",
      "   - **Sentiment**: 0.5 \n",
      "   - **SetupScore**: 3.4 \n",
      "\n",
      "3. **Trade T002**: \n",
      "   - **Action**: Buy \n",
      "   - **Price**: 0.25162617 \n",
      "   - **Volume**: 60,000.0 \n",
      "   - **Date**: 1/25/2024 \n",
      "   - **Tags**: range-trade, volume-spike \n",
      "   - **RSI**: 63.08 \n",
      "   - **ΔVol**: 17.33% \n",
      "   - **Sentiment**: 1.0 \n",
      "   - **SetupScore**: 2.7 \n",
      "\n",
      "These trades reflect a combination of momentum and trend-following strategies, with notable volume spikes contributing to their profitability. The high RSI values in the sell trades indicate strong market conditions at the time of execution.\n"
     ]
    }
   ],
   "source": [
    "print(chat(\"Which were your most profitable DOGE trades in 2024?\"))"
   ]
  },
  {
   "cell_type": "code",
   "execution_count": 6,
   "id": "f34f82ac",
   "metadata": {},
   "outputs": [
    {
     "name": "stdout",
     "output_type": "stream",
     "text": [
      "The recent purchase of DOGE can be attributed to several key factors based on the metrics from past trades:\n",
      "\n",
      "1. **Trade T002 (Buy @ 0.25162617 on 1/25/2024)**:\n",
      "   - **RSI**: 63.08, which is relatively high, indicating a bullish sentiment and potential for upward movement.\n",
      "   - **ΔVol**: 17.33%, showing a moderate increase in trading volume, suggesting growing interest in DOGE at that time.\n",
      "   - **Tags**: The trade was tagged as a range-trade and volume-spike, indicating that it was executed during a period of increased activity, which aligns with my strategy of favoring entries when volume spikes occur.\n",
      "   - **SetupScore**: 2.7, which reflects a decent setup for the trade.\n",
      "\n",
      "2. **Trade T023 (Buy @ 0.20832195 on 4/29/2024)**:\n",
      "   - **RSI**: 65.13, again indicating a bullish sentiment.\n",
      "   - **ΔVol**: -55.29%, which is a significant drop in volume, but the sentiment was still positive at 0.24. This suggests that despite the volume drop, there was still a belief in the asset's potential.\n",
      "   - **Tags**: The trade was tagged as meme and mean-revert, indicating a strategy focused on the potential for a bounce back in price.\n",
      "\n",
      "3. **Market Sentiment**: The overall sentiment during these trades was mixed but leaned towards positive, particularly with the event-driven nature of the market at the time of the trades.\n",
      "\n",
      "In summary, the decision to buy DOGE recently was influenced by a combination of favorable RSI levels indicating bullish momentum, increased trading volume, and the alignment of trade tags with my preferred strategies. The potential for profit in a trending market was also a significant factor in the decision-making process.\n"
     ]
    }
   ],
   "source": [
    "print(chat(\"Why did you buy DOGE recently? Show me the reasoning.\"))"
   ]
  },
  {
   "cell_type": "code",
   "execution_count": null,
   "id": "3bbd67b5",
   "metadata": {},
   "outputs": [
    {
     "name": "stdout",
     "output_type": "stream",
     "text": [
      "Based on the past trades, I prefer trades that align with my mean-reversion strategy and exhibit strong momentum or volume characteristics. Here are some examples of preferred trades:\n",
      "\n",
      "1. **Trade T046 (Sell ETH @ 3602.99608 on 10/5/2024)**:\n",
      "   - **Tags**: momentum, trend-follow\n",
      "   - **RSI**: 57.73, indicating a bullish trend but not overbought.\n",
      "   - **ΔVol**: 30.55%, showing a significant increase in volume, which supports the momentum.\n",
      "   - **SetupScore**: 3.1, reflecting a strong setup for the trade.\n",
      "\n",
      "2. **Trade T002 (Buy DOGE @ 0.25162617 on 1/25/2024)**:\n",
      "   - **Tags**: range-trade, volume-spike\n",
      "   - **RSI**: 63.08, indicating bullish momentum.\n",
      "   - **ΔVol**: 17.33%, showing increased interest in the asset.\n",
      "   - **SetupScore**: 2.7, indicating a favorable trading setup.\n",
      "\n",
      "3. **Trade T010 (Buy BTC @ 46766.38294 on 3/19/2024)**:\n",
      "   - **Tags**: range-trade, breakout, event-driven\n",
      "   - **RSI**: 63.15, suggesting a strong upward trend.\n",
      "   - **ΔVol**: 32.07%, indicating a significant increase in trading volume.\n",
      "   - **SetupScore**: 2.7, showing a decent setup for potential profit.\n",
      "\n",
      "These trades reflect my preference for entries during periods of increased volume and favorable RSI levels, as well as trades that are tagged with momentum or event-driven characteristics.\n"
     ]
    }
   ],
   "source": [
    "print(chat(\"What trades do you prefer?\"))"
   ]
  },
  {
   "cell_type": "code",
   "execution_count": 11,
   "id": "09b3f2f0",
   "metadata": {},
   "outputs": [
    {
     "name": "stdout",
     "output_type": "stream",
     "text": [
      "I bought DOGE on 2024-01-25 for several reasons based on the metrics from that trade:\n",
      "\n",
      "1. **RSI**: The Relative Strength Index (RSI) was at 63.08, indicating bullish momentum and suggesting that DOGE was gaining strength at that time.\n",
      "\n",
      "2. **ΔVol**: There was a volume increase of 17.33%, which indicates heightened trading activity and interest in DOGE, aligning with my strategy to favor entries during volume spikes.\n",
      "\n",
      "3. **Tags**: The trade was tagged as a range-trade and volume-spike, which fits my trading style focused on mean-reversion and momentum.\n",
      "\n",
      "4. **Sentiment**: The sentiment score was 1.0, reflecting a positive outlook on DOGE, which likely contributed to the decision to enter the trade.\n",
      "\n",
      "Overall, the combination of a favorable RSI, increased volume, and positive sentiment made it a suitable opportunity for a buy, consistent with my trading strategy.\n"
     ]
    }
   ],
   "source": [
    "print(chat(\"Why did you buy DOGE on 2024-01-25?\"))"
   ]
  },
  {
   "cell_type": "code",
   "execution_count": 12,
   "id": "bcf4d2a0",
   "metadata": {},
   "outputs": [
    {
     "name": "stdout",
     "output_type": "stream",
     "text": [
      "Dealing with losses is an important aspect of my trading strategy. Here’s how I approach it based on my past trades:\n",
      "\n",
      "1. **Stop-Loss Implementation**: I utilize stop-loss orders to manage risk effectively. For instance, in my profitable ETH trade (T016), I had a stop-loss in place, which helps to limit potential losses on trades that do not go as planned.\n",
      "\n",
      "2. **Analyzing Losses**: When I incur a loss, such as in the PEPE trade (T015), I review the metrics:\n",
      "   - **RSI**: At 55.5, it was not above my preferred threshold of 55, indicating that the momentum may not have been strong enough.\n",
      "   - **ΔVol**: The negative volume change of -27.6% suggested a lack of interest in the asset, which can be a warning sign.\n",
      "   - **Sentiment**: A sentiment score of -0.16 indicated negative market sentiment, which likely contributed to the loss.\n",
      "\n",
      "3. **Learning from Mistakes**: I reflect on trades that did not work out, like the PEPE loss (T040), where the RSI was at 51.23 and the sentiment was neutral. This helps me identify patterns or conditions that I should avoid in the future.\n",
      "\n",
      "4. **Adjusting Strategies**: If a particular strategy, such as news sentiment trading, is consistently leading to losses (as seen in T015), I may reevaluate its effectiveness and adjust my approach accordingly.\n",
      "\n",
      "5. **Maintaining Discipline**: I stick to my trading rules and avoid emotional decision-making, focusing instead on the metrics and analysis to guide my future trades.\n",
      "\n",
      "Overall, I view losses as learning opportunities and use them to refine my strategies and improve my trading performance.\n"
     ]
    }
   ],
   "source": [
    "print(chat(\"How do you deal with losses?\"))"
   ]
  },
  {
   "cell_type": "code",
   "execution_count": null,
   "id": "4e796405",
   "metadata": {},
   "outputs": [],
   "source": []
  }
 ],
 "metadata": {
  "kernelspec": {
   "display_name": "genai",
   "language": "python",
   "name": "python3"
  },
  "language_info": {
   "codemirror_mode": {
    "name": "ipython",
    "version": 3
   },
   "file_extension": ".py",
   "mimetype": "text/x-python",
   "name": "python",
   "nbconvert_exporter": "python",
   "pygments_lexer": "ipython3",
   "version": "3.10.16"
  }
 },
 "nbformat": 4,
 "nbformat_minor": 5
}
